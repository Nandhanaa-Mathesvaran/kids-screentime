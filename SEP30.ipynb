{
  "cells": [
    {
      "cell_type": "code",
      "execution_count": 1,
      "metadata": {
        "id": "vpwxJpcLbKTi"
      },
      "outputs": [],
      "source": [
        "import pandas as pd\n",
        "import numpy as np\n",
        "import matplotlib.pyplot as plt\n",
        "import seaborn as sns\n",
        "from scipy import stats\n",
        "import sympy as sp"
      ]
    },
    {
      "cell_type": "code",
      "execution_count": 2,
      "metadata": {
        "colab": {
          "base_uri": "https://localhost:8080/",
          "height": 261
        },
        "id": "DQR-bG-_biZS",
        "outputId": "7f6926d0-05b6-4387-bef0-4cab3c611f65"
      },
      "outputs": [
        {
          "data": {
            "text/html": [
              "<div>\n",
              "<style scoped>\n",
              "    .dataframe tbody tr th:only-of-type {\n",
              "        vertical-align: middle;\n",
              "    }\n",
              "\n",
              "    .dataframe tbody tr th {\n",
              "        vertical-align: top;\n",
              "    }\n",
              "\n",
              "    .dataframe thead th {\n",
              "        text-align: right;\n",
              "    }\n",
              "</style>\n",
              "<table border=\"1\" class=\"dataframe\">\n",
              "  <thead>\n",
              "    <tr style=\"text-align: right;\">\n",
              "      <th></th>\n",
              "      <th>Age</th>\n",
              "      <th>Gender</th>\n",
              "      <th>Avg_Daily_Screen_Time_hr</th>\n",
              "      <th>Primary_Device</th>\n",
              "      <th>Exceeded_Recommended_Limit</th>\n",
              "      <th>Educational_to_Recreational_Ratio</th>\n",
              "      <th>Health_Impacts</th>\n",
              "      <th>Urban_or_Rural</th>\n",
              "    </tr>\n",
              "  </thead>\n",
              "  <tbody>\n",
              "    <tr>\n",
              "      <th>0</th>\n",
              "      <td>14</td>\n",
              "      <td>Male</td>\n",
              "      <td>3.99</td>\n",
              "      <td>Smartphone</td>\n",
              "      <td>True</td>\n",
              "      <td>0.42</td>\n",
              "      <td>Poor Sleep, Eye Strain</td>\n",
              "      <td>Urban</td>\n",
              "    </tr>\n",
              "    <tr>\n",
              "      <th>1</th>\n",
              "      <td>11</td>\n",
              "      <td>Female</td>\n",
              "      <td>4.61</td>\n",
              "      <td>Laptop</td>\n",
              "      <td>True</td>\n",
              "      <td>0.30</td>\n",
              "      <td>Poor Sleep</td>\n",
              "      <td>Urban</td>\n",
              "    </tr>\n",
              "    <tr>\n",
              "      <th>2</th>\n",
              "      <td>18</td>\n",
              "      <td>Female</td>\n",
              "      <td>3.73</td>\n",
              "      <td>TV</td>\n",
              "      <td>True</td>\n",
              "      <td>0.32</td>\n",
              "      <td>Poor Sleep</td>\n",
              "      <td>Urban</td>\n",
              "    </tr>\n",
              "    <tr>\n",
              "      <th>3</th>\n",
              "      <td>15</td>\n",
              "      <td>Female</td>\n",
              "      <td>1.21</td>\n",
              "      <td>Laptop</td>\n",
              "      <td>False</td>\n",
              "      <td>0.39</td>\n",
              "      <td>NaN</td>\n",
              "      <td>Urban</td>\n",
              "    </tr>\n",
              "    <tr>\n",
              "      <th>4</th>\n",
              "      <td>12</td>\n",
              "      <td>Female</td>\n",
              "      <td>5.89</td>\n",
              "      <td>Smartphone</td>\n",
              "      <td>True</td>\n",
              "      <td>0.49</td>\n",
              "      <td>Poor Sleep, Anxiety</td>\n",
              "      <td>Urban</td>\n",
              "    </tr>\n",
              "  </tbody>\n",
              "</table>\n",
              "</div>"
            ],
            "text/plain": [
              "   Age  Gender  Avg_Daily_Screen_Time_hr Primary_Device  \\\n",
              "0   14    Male                      3.99     Smartphone   \n",
              "1   11  Female                      4.61         Laptop   \n",
              "2   18  Female                      3.73             TV   \n",
              "3   15  Female                      1.21         Laptop   \n",
              "4   12  Female                      5.89     Smartphone   \n",
              "\n",
              "   Exceeded_Recommended_Limit  Educational_to_Recreational_Ratio  \\\n",
              "0                        True                               0.42   \n",
              "1                        True                               0.30   \n",
              "2                        True                               0.32   \n",
              "3                       False                               0.39   \n",
              "4                        True                               0.49   \n",
              "\n",
              "           Health_Impacts Urban_or_Rural  \n",
              "0  Poor Sleep, Eye Strain          Urban  \n",
              "1              Poor Sleep          Urban  \n",
              "2              Poor Sleep          Urban  \n",
              "3                     NaN          Urban  \n",
              "4     Poor Sleep, Anxiety          Urban  "
            ]
          },
          "execution_count": 2,
          "metadata": {},
          "output_type": "execute_result"
        }
      ],
      "source": [
        "df=pd.read_csv('Indian_Kids_Screen_Time.csv')\n",
        "df.head(5)"
      ]
    },
    {
      "cell_type": "code",
      "execution_count": 3,
      "metadata": {
        "colab": {
          "base_uri": "https://localhost:8080/"
        },
        "id": "iwXBYg2Yb7H_",
        "outputId": "e711f9b9-c042-4313-d10c-c9b80b2d02d4"
      },
      "outputs": [
        {
          "name": "stdout",
          "output_type": "stream",
          "text": [
            "First 10 rows:\n",
            "   Age  Gender  Avg_Daily_Screen_Time_hr Primary_Device  \\\n",
            "0   14    Male                      3.99     Smartphone   \n",
            "1   11  Female                      4.61         Laptop   \n",
            "2   18  Female                      3.73             TV   \n",
            "3   15  Female                      1.21         Laptop   \n",
            "4   12  Female                      5.89     Smartphone   \n",
            "5   14  Female                      4.88     Smartphone   \n",
            "6   17    Male                      2.97             TV   \n",
            "7   10    Male                      2.74             TV   \n",
            "8   14    Male                      4.61         Laptop   \n",
            "9   18    Male                      3.24         Tablet   \n",
            "\n",
            "   Exceeded_Recommended_Limit  Educational_to_Recreational_Ratio  \\\n",
            "0                        True                               0.42   \n",
            "1                        True                               0.30   \n",
            "2                        True                               0.32   \n",
            "3                       False                               0.39   \n",
            "4                        True                               0.49   \n",
            "5                        True                               0.44   \n",
            "6                       False                               0.48   \n",
            "7                        True                               0.54   \n",
            "8                        True                               0.36   \n",
            "9                        True                               0.48   \n",
            "\n",
            "             Health_Impacts Urban_or_Rural  \n",
            "0    Poor Sleep, Eye Strain          Urban  \n",
            "1                Poor Sleep          Urban  \n",
            "2                Poor Sleep          Urban  \n",
            "3                       NaN          Urban  \n",
            "4       Poor Sleep, Anxiety          Urban  \n",
            "5                Poor Sleep          Urban  \n",
            "6                       NaN          Rural  \n",
            "7                       NaN          Urban  \n",
            "8       Poor Sleep, Anxiety          Rural  \n",
            "9  Poor Sleep, Obesity Risk          Urban  \n",
            "\n",
            "Shape: (9712, 8)\n",
            "\n",
            "Columns: ['Age', 'Gender', 'Avg_Daily_Screen_Time_hr', 'Primary_Device', 'Exceeded_Recommended_Limit', 'Educational_to_Recreational_Ratio', 'Health_Impacts', 'Urban_or_Rural']\n",
            "\n",
            "Data Types:\n",
            " Age                                    int64\n",
            "Gender                                object\n",
            "Avg_Daily_Screen_Time_hr             float64\n",
            "Primary_Device                        object\n",
            "Exceeded_Recommended_Limit              bool\n",
            "Educational_to_Recreational_Ratio    float64\n",
            "Health_Impacts                        object\n",
            "Urban_or_Rural                        object\n",
            "dtype: object\n"
          ]
        }
      ],
      "source": [
        "print(\"First 10 rows:\")\n",
        "print(df.head(10))\n",
        "\n",
        "print(\"\\nShape:\", df.shape)\n",
        "print(\"\\nColumns:\", df.columns.tolist())\n",
        "print(\"\\nData Types:\\n\", df.dtypes)"
      ]
    },
    {
      "cell_type": "code",
      "execution_count": 4,
      "metadata": {
        "colab": {
          "base_uri": "https://localhost:8080/"
        },
        "id": "hpG6j7txcPNK",
        "outputId": "69f1a8fe-c752-47a1-b78b-5978fe79a542"
      },
      "outputs": [
        {
          "name": "stdout",
          "output_type": "stream",
          "text": [
            "\n",
            "Missing values:\n",
            " Age                                     0\n",
            "Gender                                  0\n",
            "Avg_Daily_Screen_Time_hr                0\n",
            "Primary_Device                          0\n",
            "Exceeded_Recommended_Limit              0\n",
            "Educational_to_Recreational_Ratio       0\n",
            "Health_Impacts                       3218\n",
            "Urban_or_Rural                          0\n",
            "dtype: int64\n",
            "\n",
            "Number of duplicates: 44\n",
            "\n",
            "Numerical summary:\n",
            "                Age  Avg_Daily_Screen_Time_hr  \\\n",
            "count  9712.000000               9712.000000   \n",
            "mean     12.979201                  4.352837   \n",
            "std       3.162437                  1.718232   \n",
            "min       8.000000                  0.000000   \n",
            "25%      10.000000                  3.410000   \n",
            "50%      13.000000                  4.440000   \n",
            "75%      16.000000                  5.380000   \n",
            "max      18.000000                 13.890000   \n",
            "\n",
            "       Educational_to_Recreational_Ratio  \n",
            "count                        9712.000000  \n",
            "mean                            0.427226  \n",
            "std                             0.073221  \n",
            "min                             0.300000  \n",
            "25%                             0.370000  \n",
            "50%                             0.430000  \n",
            "75%                             0.480000  \n",
            "max                             0.600000  \n",
            "\n",
            "Categorical summary:\n",
            "        Gender Primary_Device Health_Impacts Urban_or_Rural\n",
            "count    9712           9712           6494           9712\n",
            "unique      2              4             15              2\n",
            "top      Male     Smartphone     Poor Sleep          Urban\n",
            "freq     4942           4568           2268           6851\n"
          ]
        }
      ],
      "source": [
        "print(\"\\nMissing values:\\n\", df.isnull().sum())\n",
        "print(\"\\nNumber of duplicates:\", df.duplicated().sum())\n",
        "\n",
        "print(\"\\nNumerical summary:\\n\", df.describe())\n",
        "print(\"\\nCategorical summary:\\n\", df.describe(include='object'))\n"
      ]
    },
    {
      "cell_type": "code",
      "execution_count": 5,
      "metadata": {
        "colab": {
          "base_uri": "https://localhost:8080/"
        },
        "id": "vMtSbNvHc8oC",
        "outputId": "8a3c2ed3-defa-4191-f9b8-4c7680e6194b"
      },
      "outputs": [
        {
          "name": "stdout",
          "output_type": "stream",
          "text": [
            "Number of unique primary device: 4\n",
            "Number of unique health imapcts: 15\n"
          ]
        }
      ],
      "source": [
        "prim_dev=df['Primary_Device'].nunique()\n",
        "print('Number of unique primary device:',prim_dev)\n",
        "\n",
        "health_imp=df['Health_Impacts'].nunique()\n",
        "print('Number of unique health imapcts:',health_imp)"
      ]
    },
    {
      "cell_type": "code",
      "execution_count": 6,
      "metadata": {
        "colab": {
          "base_uri": "https://localhost:8080/"
        },
        "id": "GZgoGH_U9iis",
        "outputId": "82c3ce9d-65f7-4e0c-bb49-302a82e27dec"
      },
      "outputs": [
        {
          "name": "stdout",
          "output_type": "stream",
          "text": [
            "Most Common Device Type: Smartphone\n",
            "Maximum screen time: 13.89\n"
          ]
        }
      ],
      "source": [
        "common_device=df['Primary_Device'].mode()[0]\n",
        "print('Most Common Device Type:',common_device)\n",
        "\n",
        "max_screentime=df['Avg_Daily_Screen_Time_hr'].max()\n",
        "print('Maximum screen time:',max_screentime)"
      ]
    },
    {
      "cell_type": "markdown",
      "metadata": {
        "id": "vN8o_spZEdax"
      },
      "source": [
        "**Part B**"
      ]
    },
    {
      "cell_type": "code",
      "execution_count": 7,
      "metadata": {
        "colab": {
          "base_uri": "https://localhost:8080/",
          "height": 504
        },
        "id": "Lu0WIBTzDlOC",
        "outputId": "38a554eb-044c-4b25-ab92-b718e1d216a3"
      },
      "outputs": [
        {
          "name": "stdout",
          "output_type": "stream",
          "text": [
            "Skewness: -0.0025333639793440194\n"
          ]
        },
        {
          "data": {
            "image/png": "[encoded data removed]",
            "text/plain": [
              "<Figure size 600x500 with 1 Axes>"
            ]
          },
          "metadata": {},
          "output_type": "display_data"
        }
      ],
      "source": [
        "plt.figure(figsize=(6,5))\n",
        "sns.histplot(df['Age'], bins=10,color='skyblue')\n",
        "print(\"Skewness:\", df['Age'].skew())\n",
        "plt.title(\"Histogram of Kids' Ages\")\n",
        "plt.xlabel(\"Age\")\n",
        "plt.ylabel(\"Count\")\n",
        "plt.show()"
      ]
    },
    {
      "cell_type": "code",
      "execution_count": 8,
      "metadata": {
        "colab": {
          "base_uri": "https://localhost:8080/"
        },
        "id": "ESi_8HUkEyWa",
        "outputId": "521c6c56-c6a8-458d-c3c5-35fae3aef939"
      },
      "outputs": [
        {
          "name": "stdout",
          "output_type": "stream",
          "text": [
            "Top 10 kids with highest daily screen time:\n",
            "      Age  Gender  Avg_Daily_Screen_Time_hr Primary_Device\n",
            "4298   10  Female                     13.89     Smartphone\n",
            "934    10  Female                     13.01     Smartphone\n",
            "1769    9    Male                     12.80             TV\n",
            "1870   10    Male                     12.40     Smartphone\n",
            "1321   10  Female                     12.09         Tablet\n",
            "768     8    Male                     11.97         Tablet\n",
            "2672    8  Female                     11.77     Smartphone\n",
            "36     10    Male                     11.68             TV\n",
            "7507    8    Male                     11.50             TV\n",
            "6227   10  Female                     11.33     Smartphone\n"
          ]
        }
      ],
      "source": [
        "top10_highest = df.nlargest(10, 'Avg_Daily_Screen_Time_hr')\n",
        "print(\"Top 10 kids with highest daily screen time:\")\n",
        "print(top10_highest[['Age', 'Gender', 'Avg_Daily_Screen_Time_hr', 'Primary_Device']])\n"
      ]
    },
    {
      "cell_type": "code",
      "execution_count": 9,
      "metadata": {
        "colab": {
          "base_uri": "https://localhost:8080/"
        },
        "id": "GyFgR8X7GjjP",
        "outputId": "ca6608b6-f58b-45d5-af29-b97077d56421"
      },
      "outputs": [
        {
          "name": "stdout",
          "output_type": "stream",
          "text": [
            "\n",
            "Average daily screen time by location:\n",
            "Urban_or_Rural\n",
            "Rural    4.373702\n",
            "Urban    4.344123\n",
            "Name: Avg_Daily_Screen_Time_hr, dtype: float64\n"
          ]
        }
      ],
      "source": [
        "avg_location = df.groupby(\"Urban_or_Rural\")['Avg_Daily_Screen_Time_hr'].mean()\n",
        "print(\"\\nAverage daily screen time by location:\")\n",
        "print(avg_location)"
      ]
    },
    {
      "cell_type": "code",
      "execution_count": 10,
      "metadata": {
        "colab": {
          "base_uri": "https://localhost:8080/",
          "height": 559
        },
        "id": "d44nVLtuGuzn",
        "outputId": "0a822c84-22bd-4d57-823f-7668224ff492"
      },
      "outputs": [
        {
          "data": {
            "image/png": "[encoded data removed]",
            "text/plain": [
              "<Figure size 600x500 with 1 Axes>"
            ]
          },
          "metadata": {},
          "output_type": "display_data"
        }
      ],
      "source": [
        "avg_device = df.groupby(\"Primary_Device\")['Avg_Daily_Screen_Time_hr'].mean().sort_values()\n",
        "plt.figure(figsize=(6,5))\n",
        "avg_device.plot(kind='bar', color='teal')\n",
        "plt.title(\"Average Screen Time by Device Type\")\n",
        "plt.ylabel(\"Avg Screen Time (hours)\")\n",
        "plt.xlabel(\"Device Type\")\n",
        "plt.show()"
      ]
    },
    {
      "cell_type": "code",
      "execution_count": 11,
      "metadata": {
        "colab": {
          "base_uri": "https://localhost:8080/",
          "height": 565
        },
        "id": "J2bC12a5G6WP",
        "outputId": "b865ed85-44ef-45c6-aaae-b01640c980d2"
      },
      "outputs": [
        {
          "data": {
            "image/png": "[encoded data removed]",
            "text/plain": [
              "<Figure size 600x600 with 1 Axes>"
            ]
          },
          "metadata": {},
          "output_type": "display_data"
        }
      ],
      "source": [
        "plt.figure(figsize=(6,6))\n",
        "sns.boxplot(x=\"Gender\",y=\"Avg_Daily_Screen_Time_hr\",hue=\"Urban_or_Rural\",data=df,palette=\"Set2\",linewidth=1.2)\n",
        "plt.title(\"Screen Time by Gender and Area\", fontsize=14, weight='bold')\n",
        "plt.ylabel(\"Daily Screen Time (hours)\")\n",
        "plt.xlabel(\"Gender\")\n",
        "plt.legend(title=\"Area\", loc=\"upper right\")\n",
        "plt.show()"
      ]
    },
    {
      "cell_type": "code",
      "execution_count": 12,
      "metadata": {
        "colab": {
          "base_uri": "https://localhost:8080/"
        },
        "id": "cPYWCvUsHqwN",
        "outputId": "f688a27b-58f6-40fb-a68a-4e8f1b054660"
      },
      "outputs": [
        {
          "name": "stdout",
          "output_type": "stream",
          "text": [
            "\n",
            "Top 10 kids with lowest daily screen time:\n",
            "     Age  Gender  Avg_Daily_Screen_Time_hr Primary_Device\n",
            "19     9  Female                       0.0             TV\n",
            "46     9  Female                       0.0     Smartphone\n",
            "58     9    Male                       0.0     Smartphone\n",
            "92    10  Female                       0.0         Tablet\n",
            "96    10    Male                       0.0     Smartphone\n",
            "145    9  Female                       0.0         Tablet\n",
            "287   10    Male                       0.0             TV\n",
            "300    8    Male                       0.0     Smartphone\n",
            "313    9    Male                       0.0         Tablet\n",
            "322    8  Female                       0.0     Smartphone\n"
          ]
        }
      ],
      "source": [
        "top10_lowest = df.nsmallest(10, 'Avg_Daily_Screen_Time_hr')\n",
        "print(\"\\nTop 10 kids with lowest daily screen time:\")\n",
        "print(top10_lowest[['Age', 'Gender', 'Avg_Daily_Screen_Time_hr', 'Primary_Device']])"
      ]
    },
    {
      "cell_type": "markdown",
      "metadata": {
        "id": "CSCzBqnAIJ2V"
      },
      "source": [
        "**Part 3**"
      ]
    },
    {
      "cell_type": "code",
      "execution_count": 13,
      "metadata": {
        "colab": {
          "base_uri": "https://localhost:8080/"
        },
        "id": "AJ9bSE71Hwqb",
        "outputId": "cc2c1eb8-73e2-4497-f313-87869ff86cda"
      },
      "outputs": [
        {
          "name": "stdout",
          "output_type": "stream",
          "text": [
            "Mean Daily Screen Time: 4.35\n",
            "Median Daily Screen Time: 4.44\n",
            "Mode Daily Screen Time: 0.0\n",
            "\n",
            "Variance of Daily Screen Time: 2.95\n",
            "Standard Deviation of Daily Screen Time: 1.72\n",
            "\n",
            "Correlation between Age and Screen Time: 0.118\n",
            "\n",
            "Percentage of Kids with Screen Time > 5 hours: 33.7 %\n"
          ]
        }
      ],
      "source": [
        "mean_screen = df['Avg_Daily_Screen_Time_hr'].mean()\n",
        "median_screen = df['Avg_Daily_Screen_Time_hr'].median()\n",
        "mode_screen = df['Avg_Daily_Screen_Time_hr'].mode()[0]\n",
        "\n",
        "print(\"Mean Daily Screen Time:\", round(mean_screen,2))\n",
        "print(\"Median Daily Screen Time:\", round(median_screen,2))\n",
        "print(\"Mode Daily Screen Time:\", round(mode_screen,2))\n",
        "\n",
        "var_screen = df['Avg_Daily_Screen_Time_hr'].var()\n",
        "std_screen = df['Avg_Daily_Screen_Time_hr'].std()\n",
        "\n",
        "print(\"\\nVariance of Daily Screen Time:\", round(var_screen,2))\n",
        "print(\"Standard Deviation of Daily Screen Time:\", round(std_screen,2))\n",
        "\n",
        "corr_age_screen = df['Age'].corr(df['Avg_Daily_Screen_Time_hr'])\n",
        "print(\"\\nCorrelation between Age and Screen Time:\", round(corr_age_screen,3))\n",
        "\n",
        "high_screen = (df['Avg_Daily_Screen_Time_hr'] > 5).mean() * 100\n",
        "print(\"\\nPercentage of Kids with Screen Time > 5 hours:\", round(high_screen,2), \"%\")"
      ]
    },
    {
      "cell_type": "markdown",
      "metadata": {
        "id": "GB_JuL05Itfb"
      },
      "source": [
        "**Part 4**"
      ]
    },
    {
      "cell_type": "code",
      "execution_count": 14,
      "metadata": {
        "colab": {
          "base_uri": "https://localhost:8080/"
        },
        "id": "VWn-xcz4I7UG",
        "outputId": "1efeec37-2971-4afe-afdd-66d680c74fbb"
      },
      "outputs": [
        {
          "name": "stdout",
          "output_type": "stream",
          "text": [
            "Age Array: [14 11 18 15 12 14 17 10 14 18]\n",
            "Screen Time Array: [3.99 4.61 3.73 1.21 5.89 4.88 2.97 2.74 4.61 3.24]\n"
          ]
        }
      ],
      "source": [
        "age_array = df['Age'].to_numpy()\n",
        "screen_array = df['Avg_Daily_Screen_Time_hr'].to_numpy()\n",
        "\n",
        "print(\"Age Array:\", age_array[:10])  # first 10 values\n",
        "print(\"Screen Time Array:\", screen_array[:10])"
      ]
    },
    {
      "cell_type": "code",
      "execution_count": 15,
      "metadata": {
        "colab": {
          "base_uri": "https://localhost:8080/"
        },
        "id": "sh71CWmWI8_t",
        "outputId": "28871818-acec-48fc-8577-3204fbcc61ed"
      },
      "outputs": [
        {
          "name": "stdout",
          "output_type": "stream",
          "text": [
            "\n",
            "Vector Subtraction (Age - Screen Time):\n",
            "[10.01  6.39 14.27 13.79  6.11  9.12 14.03  7.26  9.39 14.76]\n"
          ]
        }
      ],
      "source": [
        "subtraction = age_array - screen_array\n",
        "print(\"\\nVector Subtraction (Age - Screen Time):\")\n",
        "print(subtraction[:10])"
      ]
    },
    {
      "cell_type": "code",
      "execution_count": 16,
      "metadata": {
        "colab": {
          "base_uri": "https://localhost:8080/"
        },
        "id": "LMhbHOI6JHne",
        "outputId": "ecfc0c2e-c4ac-4640-b549-0c74143a02cc"
      },
      "outputs": [
        {
          "name": "stdout",
          "output_type": "stream",
          "text": [
            "\n",
            "Dot Product between Age and Screen Time: 554936.35\n",
            "\n",
            "First 10 Normalized Screen Time values:\n",
            "[0.00865176 0.00999614 0.00808798 0.00262372 0.01277164 0.0105816\n",
            " 0.00644003 0.00594131 0.00999614 0.00702549]\n"
          ]
        }
      ],
      "source": [
        "dot_product = np.dot(age_array, screen_array)\n",
        "print(\"\\nDot Product between Age and Screen Time:\", dot_product)\n",
        "norm = np.linalg.norm(screen_array)\n",
        "normalized_screen = screen_array / norm\n",
        "\n",
        "print(\"\\nFirst 10 Normalized Screen Time values:\")\n",
        "print(normalized_screen[:10])"
      ]
    },
    {
      "cell_type": "code",
      "execution_count": 17,
      "metadata": {
        "colab": {
          "base_uri": "https://localhost:8080/"
        },
        "id": "pr8nAtcJKTJJ",
        "outputId": "9202ce04-2c63-4675-fcee-62ae4ed84b68"
      },
      "outputs": [
        {
          "name": "stdout",
          "output_type": "stream",
          "text": [
            "\n",
            "Derivative wrt ScreenTime: 2*ScreenTime\n"
          ]
        }
      ],
      "source": [
        "ScreenTime, Age = sp.symbols('ScreenTime Age')\n",
        "\n",
        "Performance_Score = (ScreenTime**2) + 0.5*Age\n",
        "\n",
        "derivative = sp.diff(Performance_Score, ScreenTime)\n",
        "print(\"\\nDerivative wrt ScreenTime:\", derivative)"
      ]
    },
    {
      "cell_type": "code",
      "execution_count": 18,
      "metadata": {
        "colab": {
          "base_uri": "https://localhost:8080/"
        },
        "id": "c_Hg-NYA27Dq",
        "outputId": "b959f4bb-f0b2-48c7-9be3-1dd864155647"
      },
      "outputs": [
        {
          "name": "stdout",
          "output_type": "stream",
          "text": [
            "   Age  Avg_Daily_Screen_Time_hr  is_high_screen screen_time_category  \\\n",
            "0   14                      3.99               0               Medium   \n",
            "1   11                      4.61               0               Medium   \n",
            "2   18                      3.73               0               Medium   \n",
            "3   15                      1.21               0                  Low   \n",
            "4   12                      5.89               1                 High   \n",
            "\n",
            "   edu_focus  is_urban  has_health_impact  \n",
            "0          0         1                  1  \n",
            "1          0         1                  1  \n",
            "2          0         1                  1  \n",
            "3          0         1                  1  \n",
            "4          0         1                  1  \n"
          ]
        }
      ],
      "source": [
        "df['is_high_screen'] = (df['Avg_Daily_Screen_Time_hr'] >= 5).astype(int)\n",
        "\n",
        "df['screen_time_category'] = pd.cut(\n",
        "    df['Avg_Daily_Screen_Time_hr'],\n",
        "    bins=[0, 3, 5, 100],\n",
        "    labels=['Low', 'Medium', 'High']\n",
        ")\n",
        "\n",
        "df['edu_focus'] = (df['Educational_to_Recreational_Ratio'] >= 0.5).astype(int)\n",
        "\n",
        "df['is_urban'] = (df['Urban_or_Rural'] == \"Urban\").astype(int)\n",
        "\n",
        "df['has_health_impact'] = (df['Health_Impacts'] != \"None\").astype(int)\n",
        "\n",
        "\n",
        "print(df.head()[[\n",
        "    'Age','Avg_Daily_Screen_Time_hr','is_high_screen',\n",
        "    'screen_time_category','edu_focus','is_urban','has_health_impact'\n",
        "]])"
      ]
    },
    {
      "cell_type": "markdown",
      "metadata": {
        "id": "ySXYi7um49-x"
      },
      "source": [
        "**Part 7**"
      ]
    },
    {
      "cell_type": "code",
      "execution_count": 19,
      "metadata": {
        "colab": {
          "base_uri": "https://localhost:8080/",
          "height": 261
        },
        "id": "IuYPaPnpM5sw",
        "outputId": "5ab86d38-13e0-4a41-d3d9-ed73ef27d077"
      },
      "outputs": [
        {
          "data": {
            "text/html": [
              "<div>\n",
              "<style scoped>\n",
              "    .dataframe tbody tr th:only-of-type {\n",
              "        vertical-align: middle;\n",
              "    }\n",
              "\n",
              "    .dataframe tbody tr th {\n",
              "        vertical-align: top;\n",
              "    }\n",
              "\n",
              "    .dataframe thead th {\n",
              "        text-align: right;\n",
              "    }\n",
              "</style>\n",
              "<table border=\"1\" class=\"dataframe\">\n",
              "  <thead>\n",
              "    <tr style=\"text-align: right;\">\n",
              "      <th></th>\n",
              "      <th>Age</th>\n",
              "      <th>Gender</th>\n",
              "      <th>Avg_Daily_Screen_Time_hr</th>\n",
              "      <th>Primary_Device</th>\n",
              "      <th>Exceeded_Recommended_Limit</th>\n",
              "      <th>Educational_to_Recreational_Ratio</th>\n",
              "      <th>Health_Impacts</th>\n",
              "      <th>Urban_or_Rural</th>\n",
              "      <th>is_high_screen</th>\n",
              "      <th>screen_time_category</th>\n",
              "      <th>edu_focus</th>\n",
              "      <th>is_urban</th>\n",
              "      <th>has_health_impact</th>\n",
              "    </tr>\n",
              "  </thead>\n",
              "  <tbody>\n",
              "    <tr>\n",
              "      <th>1</th>\n",
              "      <td>11</td>\n",
              "      <td>Female</td>\n",
              "      <td>4.61</td>\n",
              "      <td>Laptop</td>\n",
              "      <td>True</td>\n",
              "      <td>0.30</td>\n",
              "      <td>Poor Sleep</td>\n",
              "      <td>Urban</td>\n",
              "      <td>0</td>\n",
              "      <td>Medium</td>\n",
              "      <td>0</td>\n",
              "      <td>1</td>\n",
              "      <td>1</td>\n",
              "    </tr>\n",
              "    <tr>\n",
              "      <th>4</th>\n",
              "      <td>12</td>\n",
              "      <td>Female</td>\n",
              "      <td>5.89</td>\n",
              "      <td>Smartphone</td>\n",
              "      <td>True</td>\n",
              "      <td>0.49</td>\n",
              "      <td>Poor Sleep, Anxiety</td>\n",
              "      <td>Urban</td>\n",
              "      <td>1</td>\n",
              "      <td>High</td>\n",
              "      <td>0</td>\n",
              "      <td>1</td>\n",
              "      <td>1</td>\n",
              "    </tr>\n",
              "    <tr>\n",
              "      <th>5</th>\n",
              "      <td>14</td>\n",
              "      <td>Female</td>\n",
              "      <td>4.88</td>\n",
              "      <td>Smartphone</td>\n",
              "      <td>True</td>\n",
              "      <td>0.44</td>\n",
              "      <td>Poor Sleep</td>\n",
              "      <td>Urban</td>\n",
              "      <td>0</td>\n",
              "      <td>Medium</td>\n",
              "      <td>0</td>\n",
              "      <td>1</td>\n",
              "      <td>1</td>\n",
              "    </tr>\n",
              "    <tr>\n",
              "      <th>8</th>\n",
              "      <td>14</td>\n",
              "      <td>Male</td>\n",
              "      <td>4.61</td>\n",
              "      <td>Laptop</td>\n",
              "      <td>True</td>\n",
              "      <td>0.36</td>\n",
              "      <td>Poor Sleep, Anxiety</td>\n",
              "      <td>Rural</td>\n",
              "      <td>0</td>\n",
              "      <td>Medium</td>\n",
              "      <td>0</td>\n",
              "      <td>0</td>\n",
              "      <td>1</td>\n",
              "    </tr>\n",
              "    <tr>\n",
              "      <th>11</th>\n",
              "      <td>15</td>\n",
              "      <td>Female</td>\n",
              "      <td>4.94</td>\n",
              "      <td>TV</td>\n",
              "      <td>True</td>\n",
              "      <td>0.36</td>\n",
              "      <td>Poor Sleep</td>\n",
              "      <td>Rural</td>\n",
              "      <td>0</td>\n",
              "      <td>Medium</td>\n",
              "      <td>0</td>\n",
              "      <td>0</td>\n",
              "      <td>1</td>\n",
              "    </tr>\n",
              "  </tbody>\n",
              "</table>\n",
              "</div>"
            ],
            "text/plain": [
              "    Age  Gender  Avg_Daily_Screen_Time_hr Primary_Device  \\\n",
              "1    11  Female                      4.61         Laptop   \n",
              "4    12  Female                      5.89     Smartphone   \n",
              "5    14  Female                      4.88     Smartphone   \n",
              "8    14    Male                      4.61         Laptop   \n",
              "11   15  Female                      4.94             TV   \n",
              "\n",
              "    Exceeded_Recommended_Limit  Educational_to_Recreational_Ratio  \\\n",
              "1                         True                               0.30   \n",
              "4                         True                               0.49   \n",
              "5                         True                               0.44   \n",
              "8                         True                               0.36   \n",
              "11                        True                               0.36   \n",
              "\n",
              "         Health_Impacts Urban_or_Rural  is_high_screen screen_time_category  \\\n",
              "1            Poor Sleep          Urban               0               Medium   \n",
              "4   Poor Sleep, Anxiety          Urban               1                 High   \n",
              "5            Poor Sleep          Urban               0               Medium   \n",
              "8   Poor Sleep, Anxiety          Rural               0               Medium   \n",
              "11           Poor Sleep          Rural               0               Medium   \n",
              "\n",
              "    edu_focus  is_urban  has_health_impact  \n",
              "1           0         1                  1  \n",
              "4           0         1                  1  \n",
              "5           0         1                  1  \n",
              "8           0         0                  1  \n",
              "11          0         0                  1  "
            ]
          },
          "execution_count": 19,
          "metadata": {},
          "output_type": "execute_result"
        }
      ],
      "source": [
        "high_screen_time = df[df['Avg_Daily_Screen_Time_hr'] > 4]\n",
        "high_screen_time.head()"
      ]
    },
    {
      "cell_type": "code",
      "execution_count": 20,
      "metadata": {
        "colab": {
          "base_uri": "https://localhost:8080/",
          "height": 278
        },
        "id": "XxoD3jc6NB4t",
        "outputId": "8a86aa76-7d54-4387-e165-d9738f1f3fa1"
      },
      "outputs": [
        {
          "data": {
            "text/html": [
              "<div>\n",
              "<style scoped>\n",
              "    .dataframe tbody tr th:only-of-type {\n",
              "        vertical-align: middle;\n",
              "    }\n",
              "\n",
              "    .dataframe tbody tr th {\n",
              "        vertical-align: top;\n",
              "    }\n",
              "\n",
              "    .dataframe thead th {\n",
              "        text-align: right;\n",
              "    }\n",
              "</style>\n",
              "<table border=\"1\" class=\"dataframe\">\n",
              "  <thead>\n",
              "    <tr style=\"text-align: right;\">\n",
              "      <th></th>\n",
              "      <th>Age</th>\n",
              "      <th>Gender</th>\n",
              "      <th>Avg_Daily_Screen_Time_hr</th>\n",
              "      <th>Primary_Device</th>\n",
              "      <th>Exceeded_Recommended_Limit</th>\n",
              "      <th>Educational_to_Recreational_Ratio</th>\n",
              "      <th>Health_Impacts</th>\n",
              "      <th>Urban_or_Rural</th>\n",
              "      <th>is_high_screen</th>\n",
              "      <th>screen_time_category</th>\n",
              "      <th>edu_focus</th>\n",
              "      <th>is_urban</th>\n",
              "      <th>has_health_impact</th>\n",
              "    </tr>\n",
              "  </thead>\n",
              "  <tbody>\n",
              "    <tr>\n",
              "      <th>4298</th>\n",
              "      <td>10</td>\n",
              "      <td>Female</td>\n",
              "      <td>13.89</td>\n",
              "      <td>Smartphone</td>\n",
              "      <td>True</td>\n",
              "      <td>0.58</td>\n",
              "      <td>Eye Strain, Anxiety</td>\n",
              "      <td>Urban</td>\n",
              "      <td>1</td>\n",
              "      <td>High</td>\n",
              "      <td>1</td>\n",
              "      <td>1</td>\n",
              "      <td>1</td>\n",
              "    </tr>\n",
              "    <tr>\n",
              "      <th>934</th>\n",
              "      <td>10</td>\n",
              "      <td>Female</td>\n",
              "      <td>13.01</td>\n",
              "      <td>Smartphone</td>\n",
              "      <td>True</td>\n",
              "      <td>0.57</td>\n",
              "      <td>Poor Sleep, Anxiety</td>\n",
              "      <td>Urban</td>\n",
              "      <td>1</td>\n",
              "      <td>High</td>\n",
              "      <td>1</td>\n",
              "      <td>1</td>\n",
              "      <td>1</td>\n",
              "    </tr>\n",
              "    <tr>\n",
              "      <th>1769</th>\n",
              "      <td>9</td>\n",
              "      <td>Male</td>\n",
              "      <td>12.80</td>\n",
              "      <td>TV</td>\n",
              "      <td>True</td>\n",
              "      <td>0.56</td>\n",
              "      <td>Eye Strain, Anxiety</td>\n",
              "      <td>Rural</td>\n",
              "      <td>1</td>\n",
              "      <td>High</td>\n",
              "      <td>1</td>\n",
              "      <td>0</td>\n",
              "      <td>1</td>\n",
              "    </tr>\n",
              "    <tr>\n",
              "      <th>1870</th>\n",
              "      <td>10</td>\n",
              "      <td>Male</td>\n",
              "      <td>12.40</td>\n",
              "      <td>Smartphone</td>\n",
              "      <td>True</td>\n",
              "      <td>0.52</td>\n",
              "      <td>NaN</td>\n",
              "      <td>Urban</td>\n",
              "      <td>1</td>\n",
              "      <td>High</td>\n",
              "      <td>1</td>\n",
              "      <td>1</td>\n",
              "      <td>1</td>\n",
              "    </tr>\n",
              "    <tr>\n",
              "      <th>1321</th>\n",
              "      <td>10</td>\n",
              "      <td>Female</td>\n",
              "      <td>12.09</td>\n",
              "      <td>Tablet</td>\n",
              "      <td>True</td>\n",
              "      <td>0.45</td>\n",
              "      <td>Poor Sleep</td>\n",
              "      <td>Urban</td>\n",
              "      <td>1</td>\n",
              "      <td>High</td>\n",
              "      <td>0</td>\n",
              "      <td>1</td>\n",
              "      <td>1</td>\n",
              "    </tr>\n",
              "  </tbody>\n",
              "</table>\n",
              "</div>"
            ],
            "text/plain": [
              "      Age  Gender  Avg_Daily_Screen_Time_hr Primary_Device  \\\n",
              "4298   10  Female                     13.89     Smartphone   \n",
              "934    10  Female                     13.01     Smartphone   \n",
              "1769    9    Male                     12.80             TV   \n",
              "1870   10    Male                     12.40     Smartphone   \n",
              "1321   10  Female                     12.09         Tablet   \n",
              "\n",
              "      Exceeded_Recommended_Limit  Educational_to_Recreational_Ratio  \\\n",
              "4298                        True                               0.58   \n",
              "934                         True                               0.57   \n",
              "1769                        True                               0.56   \n",
              "1870                        True                               0.52   \n",
              "1321                        True                               0.45   \n",
              "\n",
              "           Health_Impacts Urban_or_Rural  is_high_screen screen_time_category  \\\n",
              "4298  Eye Strain, Anxiety          Urban               1                 High   \n",
              "934   Poor Sleep, Anxiety          Urban               1                 High   \n",
              "1769  Eye Strain, Anxiety          Rural               1                 High   \n",
              "1870                  NaN          Urban               1                 High   \n",
              "1321           Poor Sleep          Urban               1                 High   \n",
              "\n",
              "      edu_focus  is_urban  has_health_impact  \n",
              "4298          1         1                  1  \n",
              "934           1         1                  1  \n",
              "1769          1         0                  1  \n",
              "1870          1         1                  1  \n",
              "1321          0         1                  1  "
            ]
          },
          "execution_count": 20,
          "metadata": {},
          "output_type": "execute_result"
        }
      ],
      "source": [
        "sorted_screen_time = df.sort_values(by='Avg_Daily_Screen_Time_hr', ascending=False)\n",
        "sorted_screen_time.head()\n"
      ]
    },
    {
      "cell_type": "code",
      "execution_count": 21,
      "metadata": {
        "colab": {
          "base_uri": "https://localhost:8080/"
        },
        "id": "WMw9ncjWNKtk",
        "outputId": "88c82b36-0664-40cd-ffdb-f45efe2e356b"
      },
      "outputs": [
        {
          "name": "stdout",
          "output_type": "stream",
          "text": [
            "total kids in urban and rural:\n",
            "   Urban_or_Rural  Num_Kids\n",
            "0          Rural      2861\n",
            "1          Urban      6851\n"
          ]
        }
      ],
      "source": [
        "kids_per_area = df.groupby('Urban_or_Rural')['Age'].count().reset_index()\n",
        "kids_per_area.rename(columns={'Age': 'Num_Kids'}, inplace=True)\n",
        "print(\"total kids in urban and rural:\\n\",kids_per_area)"
      ]
    },
    {
      "cell_type": "code",
      "execution_count": 22,
      "metadata": {
        "colab": {
          "base_uri": "https://localhost:8080/"
        },
        "id": "o2_lE0sI30xS",
        "outputId": "7ffdedab-8b2d-42a7-8d58-b11765281f0c"
      },
      "outputs": [
        {
          "name": "stdout",
          "output_type": "stream",
          "text": [
            "top 5 devices and their avg screen time:\n",
            "   Primary_Device  Avg_Daily_Screen_Time_hr\n",
            "0         Laptop                  4.459086\n",
            "1     Smartphone                  4.388925\n",
            "2             TV                  4.287752\n",
            "3         Tablet                  4.226005\n"
          ]
        }
      ],
      "source": [
        "avg_screen_time_device = df.groupby('Primary_Device')['Avg_Daily_Screen_Time_hr'].mean().reset_index()\n",
        "top5_devices = avg_screen_time_device.sort_values(by='Avg_Daily_Screen_Time_hr', ascending=False).head(5)\n",
        "print(\"top 5 devices and their avg screen time:\\n\",top5_devices)"
      ]
    },
    {
      "cell_type": "code",
      "execution_count": 23,
      "metadata": {
        "colab": {
          "base_uri": "https://localhost:8080/"
        },
        "id": "puMqhObVOFZc",
        "outputId": "a1b51472-d43a-464d-90a3-33870c1d6b15"
      },
      "outputs": [
        {
          "name": "stdout",
          "output_type": "stream",
          "text": [
            "exceeded count:\n",
            " 8301\n"
          ]
        }
      ],
      "source": [
        "exceeded_count = df[df['Exceeded_Recommended_Limit'] == True].shape[0]\n",
        "print(\"exceeded count:\\n\",exceeded_count)"
      ]
    },
    {
      "cell_type": "markdown",
      "metadata": {
        "id": "n1JRaD1xPitZ"
      },
      "source": [
        "**Part 8**"
      ]
    },
    {
      "cell_type": "code",
      "execution_count": 24,
      "metadata": {
        "colab": {
          "base_uri": "https://localhost:8080/"
        },
        "id": "c-jaMszSPlbk",
        "outputId": "2b12c273-9df6-435b-a420-4a930ecdd67d"
      },
      "outputs": [
        {
          "name": "stdout",
          "output_type": "stream",
          "text": [
            "Highest Screen Time Kid:\n",
            "Age                                                   10\n",
            "Gender                                            Female\n",
            "Avg_Daily_Screen_Time_hr                           13.89\n",
            "Primary_Device                                Smartphone\n",
            "Exceeded_Recommended_Limit                          True\n",
            "Educational_to_Recreational_Ratio                   0.58\n",
            "Health_Impacts                       Eye Strain, Anxiety\n",
            "Urban_or_Rural                                     Urban\n",
            "is_high_screen                                         1\n",
            "screen_time_category                                High\n",
            "edu_focus                                              1\n",
            "is_urban                                               1\n",
            "has_health_impact                                      1\n",
            "Name: 4298, dtype: object\n",
            "\n",
            "Device with Highest Avg Screen Time:\n",
            "Primary_Device\n",
            "Laptop    4.459086\n",
            "Name: Avg_Daily_Screen_Time_hr, dtype: float64\n",
            "\n",
            "Area with Most Kids:\n",
            "Urban_or_Rural\n",
            "Urban    6851\n",
            "Name: count, dtype: int64\n",
            "\n",
            "Correlation (Edu/Recreational vs Screen Time):\n",
            "-0.0875522231559715\n",
            "\n",
            "% Exceeding Recommended Limit:\n",
            "85.47158154859967\n"
          ]
        }
      ],
      "source": [
        "print(\"Highest Screen Time Kid:\")\n",
        "print(df.loc[df['Avg_Daily_Screen_Time_hr'].idxmax()])\n",
        "\n",
        "print(\"\\nDevice with Highest Avg Screen Time:\")\n",
        "print(df.groupby('Primary_Device')['Avg_Daily_Screen_Time_hr'].mean().sort_values(ascending=False).head(1))\n",
        "\n",
        "\n",
        "print(\"\\nArea with Most Kids:\")\n",
        "print(df['Urban_or_Rural'].value_counts().head(1))\n",
        "\n",
        "print(\"\\nCorrelation (Edu/Recreational vs Screen Time):\")\n",
        "print(df['Educational_to_Recreational_Ratio'].corr(df['Avg_Daily_Screen_Time_hr']))\n",
        "\n",
        "print(\"\\n% Exceeding Recommended Limit:\")\n",
        "print((df['Exceeded_Recommended_Limit'].sum() / len(df)) * 100)"
      ]
    }
  ],
  "metadata": {
    "colab": {
      "provenance": []
    },
    "kernelspec": {
      "display_name": "base",
      "language": "python",
      "name": "python3"
    },
    "language_info": {
      "codemirror_mode": {
        "name": "ipython",
        "version": 3
      },
      "file_extension": ".py",
      "mimetype": "text/x-python",
      "name": "python",
      "nbconvert_exporter": "python",
      "pygments_lexer": "ipython3",
      "version": "3.13.7"
    }
  },
  "nbformat": 4,
  "nbformat_minor": 0
}
